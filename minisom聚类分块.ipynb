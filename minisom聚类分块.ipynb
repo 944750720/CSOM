{
 "cells": [
  {
   "cell_type": "code",
   "execution_count": 27,
   "metadata": {},
   "outputs": [
    {
     "data": {
      "text/plain": [
       "'amp_data = np.clip(amp_data, -30, 30) #（500，50）'"
      ]
     },
     "execution_count": 27,
     "metadata": {},
     "output_type": "execute_result"
    },
    {
     "data": {
      "text/plain": [
       "<Figure size 1200x800 with 0 Axes>"
      ]
     },
     "metadata": {},
     "output_type": "display_data"
    }
   ],
   "source": [
    "import numpy as np\n",
    "from skimage import io\n",
    "import matplotlib.pyplot as plt\n",
    "import seaborn as sns\n",
    "import sys\n",
    "\"push test\"\n",
    "'local_main rename test'\n",
    "# sys.path.append(r'/Users/CHJ/文稿/无人机sar/yamakawa/pi_data/SAR_program')\n",
    "import SA_func as sa\n",
    "\n",
    "## 引数定義\n",
    "ch = 8 # channel\n",
    "ad_samp_point = 512  # レーダのレンジ方向サンプリング数\n",
    "az_n = 2000 #アジマス方向のピクセル数\n",
    "az_dt =0.01\n",
    "light_speed = sa.light_speed\n",
    "df = sa.df\n",
    "dr = sa.dr\n",
    "ad_samp_point = sa.ad_samp_point\n",
    "chirp_rate = sa.chirp_rate\n",
    "d_tau = df / chirp_rate \n",
    "dir_name = \"\"\n",
    "add_name = \"\"\n",
    "filename = \"/Users/CHJ/文稿/无人机sar/yamakawa/pi_data/1206_data/azimuth_1/fft_data\"\n",
    "\n",
    "fft_data = sa.read_fft_data(filename)\n",
    "data = sa.code_V_convert(fft_data)\n",
    "raw_data = sa.get_raw_data(data)\n",
    "index = [700, 1200, 0, 50]\n",
    "az_s_index = index[0]\n",
    "az_e_index = index[1]\n",
    "az_len = az_e_index - az_s_index\n",
    "rg_s_index = index[2]\n",
    "rg_e_index = index[3]\n",
    "rg_len = rg_e_index - rg_s_index\n",
    "plt.figure(figsize = (12,8))\n",
    "\n",
    "# ampを抽出,amp_dataはdb化データ\n",
    "data = raw_data[0] #raw_data (2000,512)\n",
    "amp_data = 20 * np.log10(np.abs(data[az_s_index:az_e_index, rg_s_index:rg_e_index]))\n",
    "phase_data = np.angle(data[az_s_index:az_e_index, rg_s_index:rg_e_index])\n",
    "# amp_data_one_column = np.reshape(amp_data, (amp_data.shape[0]*amp_data.shape[1], 1))\n",
    "amp_phase = np.stack((amp_data, phase_data), axis=-1)\n",
    "amp_phase_two_column = np.reshape(amp_phase, (amp_phase.shape[0]*amp_phase.shape[1], 2))\n",
    "\"amp_data = np.clip(amp_data, -30, 30) #（500，50）\""
   ]
  },
  {
   "cell_type": "code",
   "execution_count": 28,
   "metadata": {},
   "outputs": [
    {
     "name": "stdout",
     "output_type": "stream",
     "text": [
      "training...\n",
      " [ 100000 / 100000 ] 100% - 0:00:00 left \n",
      " quantization error: 2.9251726769494644\n",
      "quantization...\n",
      "building new image...\n"
     ]
    },
    {
     "ename": "ValueError",
     "evalue": "setting an array element with a sequence.",
     "output_type": "error",
     "traceback": [
      "\u001b[0;31m---------------------------------------------------------------------------\u001b[0m",
      "\u001b[0;31mTypeError\u001b[0m                                 Traceback (most recent call last)",
      "\u001b[0;31mTypeError\u001b[0m: only size-1 arrays can be converted to Python scalars",
      "\nThe above exception was the direct cause of the following exception:\n",
      "\u001b[0;31mValueError\u001b[0m                                Traceback (most recent call last)",
      "\u001b[1;32m/Users/CHJ/文稿/weekly_report/CSOM/minisom聚类分块.ipynb 单元格 2\u001b[0m in \u001b[0;36m2\n\u001b[1;32m     <a href='vscode-notebook-cell:/Users/CHJ/%E6%96%87%E7%A8%BF/weekly_report/CSOM/minisom%E8%81%9A%E7%B1%BB%E5%88%86%E5%9D%97.ipynb#W5sZmlsZQ%3D%3D?line=24'>25</a>\u001b[0m clustered \u001b[39m=\u001b[39m np\u001b[39m.\u001b[39mzeros(amp_data\u001b[39m.\u001b[39mshape)\n\u001b[1;32m     <a href='vscode-notebook-cell:/Users/CHJ/%E6%96%87%E7%A8%BF/weekly_report/CSOM/minisom%E8%81%9A%E7%B1%BB%E5%88%86%E5%9D%97.ipynb#W5sZmlsZQ%3D%3D?line=25'>26</a>\u001b[0m \u001b[39mfor\u001b[39;00m i, q \u001b[39min\u001b[39;00m \u001b[39menumerate\u001b[39m(qnt):  \u001b[39m# place the quantized values into a new image\u001b[39;00m\n\u001b[0;32m---> <a href='vscode-notebook-cell:/Users/CHJ/%E6%96%87%E7%A8%BF/weekly_report/CSOM/minisom%E8%81%9A%E7%B1%BB%E5%88%86%E5%9D%97.ipynb#W5sZmlsZQ%3D%3D?line=26'>27</a>\u001b[0m     clustered[np\u001b[39m.\u001b[39;49munravel_index(i, shape\u001b[39m=\u001b[39;49m(amp_data\u001b[39m.\u001b[39;49mshape[\u001b[39m0\u001b[39;49m], amp_data\u001b[39m.\u001b[39;49mshape[\u001b[39m1\u001b[39;49m]))] \u001b[39m=\u001b[39m q\n\u001b[1;32m     <a href='vscode-notebook-cell:/Users/CHJ/%E6%96%87%E7%A8%BF/weekly_report/CSOM/minisom%E8%81%9A%E7%B1%BB%E5%88%86%E5%9D%97.ipynb#W5sZmlsZQ%3D%3D?line=27'>28</a>\u001b[0m \u001b[39mprint\u001b[39m(\u001b[39m'\u001b[39m\u001b[39mdone.\u001b[39m\u001b[39m'\u001b[39m)\n\u001b[1;32m     <a href='vscode-notebook-cell:/Users/CHJ/%E6%96%87%E7%A8%BF/weekly_report/CSOM/minisom%E8%81%9A%E7%B1%BB%E5%88%86%E5%9D%97.ipynb#W5sZmlsZQ%3D%3D?line=29'>30</a>\u001b[0m \u001b[39m\"\"\"\u001b[39;00m\n\u001b[1;32m     <a href='vscode-notebook-cell:/Users/CHJ/%E6%96%87%E7%A8%BF/weekly_report/CSOM/minisom%E8%81%9A%E7%B1%BB%E5%88%86%E5%9D%97.ipynb#W5sZmlsZQ%3D%3D?line=30'>31</a>\u001b[0m \u001b[39m# # show the result\u001b[39;00m\n\u001b[1;32m     <a href='vscode-notebook-cell:/Users/CHJ/%E6%96%87%E7%A8%BF/weekly_report/CSOM/minisom%E8%81%9A%E7%B1%BB%E5%88%86%E5%9D%97.ipynb#W5sZmlsZQ%3D%3D?line=31'>32</a>\u001b[0m \u001b[39m# plt.figure(figsize=(7, 7))\u001b[39;00m\n\u001b[0;32m   (...)\u001b[0m\n\u001b[1;32m     <a href='vscode-notebook-cell:/Users/CHJ/%E6%96%87%E7%A8%BF/weekly_report/CSOM/minisom%E8%81%9A%E7%B1%BB%E5%88%86%E5%9D%97.ipynb#W5sZmlsZQ%3D%3D?line=49'>50</a>\u001b[0m \u001b[39m# plt.show()\u001b[39;00m\n\u001b[1;32m     <a href='vscode-notebook-cell:/Users/CHJ/%E6%96%87%E7%A8%BF/weekly_report/CSOM/minisom%E8%81%9A%E7%B1%BB%E5%88%86%E5%9D%97.ipynb#W5sZmlsZQ%3D%3D?line=50'>51</a>\u001b[0m \u001b[39m\"\"\"\u001b[39;00m\n",
      "\u001b[0;31mValueError\u001b[0m: setting an array element with a sequence."
     ]
    }
   ],
   "source": [
    "from minisom import MiniSom\n",
    "\n",
    "import numpy as np\n",
    "import matplotlib.pyplot as plt\n",
    "%matplotlib inline\n",
    "\n",
    "# # read the image\n",
    "# img = plt.imread('tree.jpg')\n",
    "\n",
    "# # reshaping the pixels matrix\n",
    "# pixels = np.reshape(img, (img.shape[0]*img.shape[1], 1))\n",
    "pixels = amp_phase_two_column\n",
    "\n",
    "# SOM initialization and training\n",
    "print('training...')\n",
    "som = MiniSom(2, 2, 2, sigma=1.,\n",
    "              learning_rate=0.1, neighborhood_function='bubble')  # 2x2 = 4 final colors\n",
    "som.random_weights_init(pixels)\n",
    "starting_weights = som.get_weights().copy()  # saving the starting weights\n",
    "som.train(pixels, 100000, random_order=True, verbose=True)\n",
    "\n",
    "print('quantization...')\n",
    "qnt = som.quantization(pixels)  # quantize each pixels of the image\n",
    "print('building new image...')\n",
    "clustered = np.zeros(amp_data.shape)\n",
    "for i, q in enumerate(qnt):  # place the quantized values into a new image\n",
    "    clustered[np.unravel_index(i, shape=(amp_data.shape[0], amp_data.shape[1]))] = qnt[i]\n",
    "print('done.')\n",
    "\n",
    "\"\"\"\n",
    "# # show the result\n",
    "# plt.figure(figsize=(7, 7))\n",
    "# plt.figure(1)\n",
    "# plt.subplot(221)\n",
    "# plt.title('original')\n",
    "# plt.imshow(amp_data)\n",
    "# plt.subplot(222)\n",
    "# plt.title('result')\n",
    "# plt.imshow(clustered)\n",
    "\n",
    "# plt.subplot(223)\n",
    "# plt.title('initial colors')\n",
    "# plt.imshow(starting_weights, interpolation='none')\n",
    "# plt.subplot(224)\n",
    "# plt.title('learned colors')\n",
    "# plt.imshow(som.get_weights(), interpolation='none')\n",
    "\n",
    "# plt.tight_layout()\n",
    "# # plt.savefig('resulting_images/som_color_quantization.png')\n",
    "# plt.show()\n",
    "\"\"\"\n",
    "\n",
    "# heatmapを描く\n",
    "all_font = 20\n",
    "plt.figure(figsize=(12, 8))\n",
    "sns.heatmap(clustered, cmap=\"jet\") \n",
    "name = [\"\", \"range [m]\", \"azimuth [s]\"]\n",
    "dx = d_tau * light_speed / 2 / 2\n",
    "dy = 0.01\n",
    "x_step = int(rg_len / 25) + 1\n",
    "y_step = int(az_len / 20)\n",
    "plt.xticks(np.arange(0, rg_e_index - rg_s_index, step = x_step), np.round(np.arange(rg_s_index * dx, rg_e_index * dx, step = dx * x_step), 2), fontsize = all_font, rotation = 90)\n",
    "plt.yticks(np.arange(0, az_e_index - az_s_index, step = y_step), np.round(np.arange(az_s_index * dy, az_e_index * dy, step = dy * y_step), 2), fontsize = all_font)\n",
    "plt.title(name[0])\n",
    "plt.xlabel(name[1], fontsize = all_font)\n",
    "plt.ylabel(name[2], fontsize = all_font)\n",
    "plt.tight_layout()\n",
    "plt.xlabel(\"Range\")\n",
    "plt.ylabel(\"Azimuth\")\n",
    "plt.title(\"Clustering Result\")"
   ]
  },
  {
   "cell_type": "code",
   "execution_count": null,
   "metadata": {},
   "outputs": [],
   "source": []
  }
 ],
 "metadata": {
  "language_info": {
   "name": "python"
  },
  "orig_nbformat": 4
 },
 "nbformat": 4,
 "nbformat_minor": 2
}
