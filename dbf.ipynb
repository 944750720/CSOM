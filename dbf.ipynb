{
 "cells": [
  {
   "cell_type": "code",
   "execution_count": 1,
   "metadata": {},
   "outputs": [],
   "source": [
    "from math import pi, exp, sin\n",
    "from SA_func import f_c, light_speed, read_fft_data, code_V_convert, get_raw_data, chirp_rate, wl\n",
    "\n",
    "import numpy as np\n",
    "import sympy as sp\n",
    "import matplotlib.pyplot as plt\n",
    "filename = \"/Users/CHJ/Desktop/send/10-23-17-41-58/fft_data\"\n",
    "fft_data = read_fft_data(filename)\n",
    "data = code_V_convert(fft_data)\n",
    "raw_data = get_raw_data(data)\n",
    "\n",
    "\n",
    "N = 8 # TX numbers * RX numbers = 8, number of arrays\n",
    "center_freq = f_c # 24.15 GHz, the initial frequency of chirp of our FMCW radar\n",
    "d = 0.006 # 5 mmm, the distance between two adjacent RX antennas\n",
    "c = light_speed\n",
    "phase_data = np.angle(raw_data)\n",
    "phase_data = np.mod(phase_data, 2*pi) # make sure the phase is in the range of [0, 2*pi]\n",
    "tau = phase_data / (2 * pi * center_freq) # time delay matrix\n",
    "𝜆 = wl # wavelength matrix\n",
    "N_col = np.reshape(np.arange(8),(1, 8)).T\n",
    "theta = np.arange(-90,91) # traverse all the angle from front direction\n",
    "theta = np.reshape(theta, (1,181))\n",
    "theta0 = np.angle(raw_data * 180 / pi) # target beam angle\n",
    "theta0 = np.reshape(theta0, (8,-1))\n",
    "A = N_col * (1j * 2 * pi * d * np.sin(theta) / 𝜆 )\n",
    "target_beam = np.exp( 1j * 2 * pi * d  * np.sin(theta0) / 𝜆 ).T\n",
    "steering_vector = np.exp(A)\n",
    "result = np.array([])\n",
    "angle = []\n",
    "for col_tar in target_beam:\n",
    "    for col in steering_vector.T:\n",
    "        result = np.append(result, np.dot(col, col_tar))\n",
    "    # result = np.reshape(result, (181))\n",
    "    angle.append(np.argmax(np.abs(result)) - 90)\n",
    "print(angle)\n"
   ]
  }
 ],
 "metadata": {
  "kernelspec": {
   "display_name": "practice",
   "language": "python",
   "name": "python3"
  },
  "language_info": {
   "codemirror_mode": {
    "name": "ipython",
    "version": 3
   },
   "file_extension": ".py",
   "mimetype": "text/x-python",
   "name": "python",
   "nbconvert_exporter": "python",
   "pygments_lexer": "ipython3",
   "version": "3.9.16"
  }
 },
 "nbformat": 4,
 "nbformat_minor": 2
}
