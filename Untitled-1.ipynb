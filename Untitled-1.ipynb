{
 "cells": [
  {
   "cell_type": "code",
   "execution_count": 12,
   "metadata": {},
   "outputs": [
    {
     "data": {
      "text/plain": [
       "'amp_data = np.clip(amp_data, -30, 30) #（500，50）'"
      ]
     },
     "execution_count": 12,
     "metadata": {},
     "output_type": "execute_result"
    },
    {
     "data": {
      "text/plain": [
       "<Figure size 1200x800 with 0 Axes>"
      ]
     },
     "metadata": {},
     "output_type": "display_data"
    }
   ],
   "source": [
    "import numpy as np\n",
    "from skimage import io\n",
    "import matplotlib.pyplot as plt\n",
    "import seaborn as sns\n",
    "import sys\n",
    "\"push test\"\n",
    "'local_main rename test'\n",
    "# sys.path.append(r'/Users/CHJ/文稿/无人机sar/yamakawa/pi_data/SAR_program')\n",
    "import SA_func as sa\n",
    "\n",
    "## 引数定義\n",
    "ch = 8 # channel\n",
    "ad_samp_point = 512  # レーダのレンジ方向サンプリング数\n",
    "az_n = 2000 #アジマス方向のピクセル数\n",
    "az_dt =0.01\n",
    "light_speed = sa.light_speed\n",
    "df = sa.df\n",
    "dr = sa.dr\n",
    "ad_samp_point = sa.ad_samp_point\n",
    "chirp_rate = sa.chirp_rate\n",
    "d_tau = df / chirp_rate \n",
    "dir_name = \"\"\n",
    "add_name = \"\"\n",
    "filename = \"/Users/CHJ/文稿/无人机sar/yamakawa/pi_data/1206_data/azimuth_1/fft_data\"\n",
    "\n",
    "fft_data = sa.read_fft_data(filename)\n",
    "data = sa.code_V_convert(fft_data)\n",
    "raw_data = sa.get_raw_data(data)\n",
    "index = [700, 1200, 0, 50]\n",
    "az_s_index = index[0]\n",
    "az_e_index = index[1]\n",
    "az_len = az_e_index - az_s_index\n",
    "rg_s_index = index[2]\n",
    "rg_e_index = index[3]\n",
    "rg_len = rg_e_index - rg_s_index\n",
    "plt.figure(figsize = (12,8))\n",
    "\n",
    "# ampを抽出,amp_dataはdb化データ\n",
    "amp = raw_data[0] #raw_data (2000,512)\n",
    "amp_data = 20 * np.log10(np.abs(amp[az_s_index:az_e_index, rg_s_index:rg_e_index]))\n",
    "amp_data_som = np.reshape(amp_data, (amp_data.shape[0]*amp_data.shape[1], 1))\n",
    "\"amp_data = np.clip(amp_data, -30, 30) #（500，50）\""
   ]
  },
  {
   "cell_type": "code",
   "execution_count": 14,
   "metadata": {},
   "outputs": [
    {
     "data": {
      "image/png": "[encoded data removed]",
      "text/plain": [
       "<Figure size 640x480 with 2 Axes>"
      ]
     },
     "metadata": {},
     "output_type": "display_data"
    }
   ],
   "source": [
    "# 创建SOM类\n",
    "class SOM:\n",
    "    def __init__(self, n_input, n_output):\n",
    "        self.n_input = n_input\n",
    "        self.n_output = n_output\n",
    "        self.weights = np.random.rand(n_output[0], n_output[1], n_input)\n",
    "\n",
    "    def train(self, input_data, num_epochs):\n",
    "        for epoch in range(num_epochs):\n",
    "            for input_vec in input_data:\n",
    "                # 找到最佳匹配单元\n",
    "                bmu_pos = self.get_bmu(input_vec)\n",
    "\n",
    "                # 更新邻域权重\n",
    "                self.update_weights(input_vec, bmu_pos, epoch, num_epochs)\n",
    "\n",
    "    def get_bmu(self, input_vec):\n",
    "        # 找到距离输入向量最近的单元\n",
    "        bmu_pos = np.array([0, 0])\n",
    "        min_dist = np.iinfo(int).max\n",
    "        for x in range(self.n_output[0]):\n",
    "            for y in range(self.n_output[1]):\n",
    "                weight_vec = self.weights[x, y, :]\n",
    "                dist = np.linalg.norm(input_vec - weight_vec)\n",
    "                if dist < min_dist:\n",
    "                    min_dist = dist\n",
    "                    bmu_pos = np.array([x, y])\n",
    "        return bmu_pos\n",
    "\n",
    "    def update_weights(self, input_vec, bmu_pos, epoch, num_epochs):\n",
    "        # 计算邻域函数并更新权重\n",
    "        eta = self.get_learning_rate(epoch, num_epochs)\n",
    "        radius = self.get_neighborhood_radius(epoch, num_epochs)\n",
    "        for x in range(self.n_output[0]):\n",
    "            for y in range(self.n_output[1]):\n",
    "                dist = np.linalg.norm(bmu_pos - np.array([x, y]))\n",
    "                if dist < radius:\n",
    "                    influence = self.get_influence(dist, radius)\n",
    "                    weight_diff = eta * influence * (input_vec - self.weights[x, y, :])\n",
    "                    self.weights[x, y, :] += weight_diff\n",
    "\n",
    "    def get_learning_rate(self, epoch, num_epochs):\n",
    "        # 返回时间常数下降的学习率\n",
    "        return (num_epochs - epoch) / float(num_epochs)\n",
    "\n",
    "    def get_neighborhood_radius(self, epoch, num_epochs):\n",
    "        # 返回随时间常数下降的邻域半径\n",
    "        init_radius = max(self.n_output[0], self.n_output[1]) / 2\n",
    "        time_constant = num_epochs / np.log(init_radius)\n",
    "        radius = init_radius * np.exp(-epoch / time_constant)\n",
    "        return radius\n",
    "\n",
    "    def get_influence(self, dist, radius):\n",
    "        # 返回高斯邻域函数\n",
    "        return np.exp(-dist**2 / (2*radius**2))\n",
    "\n",
    "# # 创建一个二维数据集\n",
    "# data = np.random.rand(100, 2)\n",
    "\n",
    "# 创建一个SOM对象，设置输入向量大小为2，输出网格大小为10x10\n",
    "som = SOM(1, (10, 10))\n",
    "\n",
    "# 训练SOM\n",
    "som.train(amp_data_som, 100)\n",
    "plt.pcolor(som.weights[:,:,0])\n",
    "plt.colorbar()\n",
    "plt.show()"
   ]
  },
  {
   "cell_type": "code",
   "execution_count": null,
   "metadata": {},
   "outputs": [],
   "source": [
    "\n",
    "# heatmapを描く\n",
    "plt.figure(figsize=(12, 8))\n",
    "sns.heatmap(som, cmap=\"jet\", vmin=-30, vmax=30) \n",
    "name = [\"\", \"range [m]\", \"azimuth [s]\"]\n",
    "dx = d_tau * light_speed / 2 / 2\n",
    "dy = 0.01\n",
    "x_step = int(rg_len / 25) + 1 \n",
    "y_step = int(az_len / 20)  \n",
    "all_font = 20 # 全体のフォントサイズ\n",
    "plt.xticks(np.arange(0, rg_e_index - rg_s_index, step = x_step), np.round(np.arange(rg_s_index * dx, rg_e_index * dx, step = dx * x_step), 2), fontsize = all_font, rotation = 90)\n",
    "plt.yticks(np.arange(0, az_e_index - az_s_index, step = y_step), np.round(np.arange(az_s_index * dy, az_e_index * dy, step = dy * y_step), 2), fontsize = all_font)\n",
    "plt.title(name[0])\n",
    "plt.xlabel(name[1], fontsize = all_font)\n",
    "plt.ylabel(name[2], fontsize = all_font)\n",
    "plt.tight_layout()\n",
    "plt.xlabel(\"Range\")\n",
    "plt.ylabel(\"Azimuth\")\n",
    "plt.title(\"Clustering Result\")\n",
    "\n",
    "# plot\n",
    "som(amp_data)"
   ]
  }
 ],
 "metadata": {
  "kernelspec": {
   "display_name": "practice",
   "language": "python",
   "name": "python3"
  },
  "language_info": {
   "codemirror_mode": {
    "name": "ipython",
    "version": 3
   },
   "file_extension": ".py",
   "mimetype": "text/x-python",
   "name": "python",
   "nbconvert_exporter": "python",
   "pygments_lexer": "ipython3",
   "version": "3.9.15"
  },
  "orig_nbformat": 4
 },
 "nbformat": 4,
 "nbformat_minor": 2
}
